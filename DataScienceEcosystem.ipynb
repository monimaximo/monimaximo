{
  "nbformat": 4,
  "nbformat_minor": 0,
  "metadata": {
    "colab": {
      "provenance": []
    },
    "kernelspec": {
      "name": "python3",
      "display_name": "Python 3"
    },
    "language_info": {
      "name": "python"
    }
  },
  "cells": [
    {
      "cell_type": "markdown",
      "source": [
        "# Data Science Tools and Ecosystem"
      ],
      "metadata": {
        "id": "C6DvqGp3OjCQ"
      }
    },
    {
      "cell_type": "markdown",
      "source": [
        "In this notebook, Data Science Tools and Ecosystem are summarized."
      ],
      "metadata": {
        "id": "Y7C2hxCoQBOk"
      }
    },
    {
      "cell_type": "markdown",
      "source": [
        "**Objectives:**\n",
        "- List popular languages for Data Science\n",
        "- List commonly used libraries used by Data Scientists\n",
        "- Create a tabel of Data Science tools\n",
        "- Create code lines containing arithmetic expressions"
      ],
      "metadata": {
        "id": "uCjDpQ3zkxWm"
      }
    },
    {
      "cell_type": "markdown",
      "source": [
        "Some of the popular languages that Data Scientists use are:\n",
        "1. Python\n",
        "2. R\n",
        "3. Julia\n",
        "4. SQL\n",
        "5. Java"
      ],
      "metadata": {
        "id": "7yLv3LVZQeGr"
      }
    },
    {
      "cell_type": "markdown",
      "source": [
        "Some of the commonly used libraries used by Data Scientists include:\n",
        "1. Pandas\n",
        "2. Numpy\n",
        "3. Matplotlib\n"
      ],
      "metadata": {
        "id": "MewF1kloRWWL"
      }
    },
    {
      "cell_type": "markdown",
      "source": [
        "|Data Science Tools  |\n",
        "|--------------------|\n",
        "|Jupyter Notebook    |\n",
        "|RS Studio           |\n",
        "|Apache Spark        |"
      ],
      "metadata": {
        "id": "h6-IHKxPXGWN"
      }
    },
    {
      "cell_type": "markdown",
      "source": [
        "###Below are a few examples of evaluating arithmetic expressions in Python"
      ],
      "metadata": {
        "id": "xDnp6QQtY8f0"
      }
    },
    {
      "cell_type": "markdown",
      "source": [
        "This a simple arithmetic expression to mutiply then add integers"
      ],
      "metadata": {
        "id": "ZCgTvpawaEeS"
      }
    },
    {
      "cell_type": "code",
      "source": [
        "(3*4)+5"
      ],
      "metadata": {
        "colab": {
          "base_uri": "https://localhost:8080/"
        },
        "id": "MX0zmBDfaGAN",
        "outputId": "96095ca7-c82d-4313-faa3-bb8bf323bc45"
      },
      "execution_count": null,
      "outputs": [
        {
          "output_type": "execute_result",
          "data": {
            "text/plain": [
              "17"
            ]
          },
          "metadata": {},
          "execution_count": 1
        }
      ]
    },
    {
      "cell_type": "code",
      "source": [
        "# This will convert 200 minutes to hours by diving by 60\n",
        "def minutes_to_hours(minutes):\n",
        "  hours = minutes//60\n",
        "  minutes_lefting = minutes % 60\n",
        "  return hours, minutes_lefting\n",
        "\n",
        "minutes = 200\n",
        "hours, minutes_lefting = minutes_to_hours(minutes)\n",
        "print(f\"{minutes} minutes is equal {hours} hours and {minutes_lefting} minutes\" )\n"
      ],
      "metadata": {
        "colab": {
          "base_uri": "https://localhost:8080/"
        },
        "id": "G8jCni8EfF8-",
        "outputId": "6c4ff3a0-45ed-4ace-daa6-38d0e231429c"
      },
      "execution_count": null,
      "outputs": [
        {
          "output_type": "stream",
          "name": "stdout",
          "text": [
            "200 minutes is equal 3 hours and 20 minutes\n"
          ]
        }
      ]
    },
    {
      "cell_type": "markdown",
      "source": [
        "##Author\n",
        "Mônica Máximo da Silva"
      ],
      "metadata": {
        "id": "AO4pTeGOmT5m"
      }
    }
  ]
}